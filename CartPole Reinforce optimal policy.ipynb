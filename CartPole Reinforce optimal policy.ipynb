{
 "cells": [
  {
   "cell_type": "code",
   "execution_count": 1,
   "id": "e49d5d26",
   "metadata": {},
   "outputs": [
    {
     "data": {
      "text/plain": [
       "[<matplotlib.lines.Line2D at 0x278dd727b80>]"
      ]
     },
     "execution_count": 1,
     "metadata": {},
     "output_type": "execute_result"
    },
    {
     "data": {
      "image/png": "[encoded data removed]",
      "text/plain": [
       "<Figure size 432x288 with 1 Axes>"
      ]
     },
     "metadata": {
      "needs_background": "light"
     },
     "output_type": "display_data"
    }
   ],
   "source": [
    "import matplotlib.pyplot as plt"
   ]
  },
  {
   "cell_type": "code",
   "execution_count": 2,
   "id": "6bf265e0",
   "metadata": {},
   "outputs": [],
   "source": [
    "import torch\n",
    "import torch.nn as nn\n",
    "from torch.distributions.categorical import Categorical\n",
    "from torch.optim import Adam\n",
    "import numpy as np\n",
    "import gym\n",
    "import matplotlib.pyplot as plt"
   ]
  },
  {
   "cell_type": "code",
   "execution_count": 3,
   "id": "0523f8b4",
   "metadata": {},
   "outputs": [],
   "source": [
    "class LogitsNet(nn.Module):\n",
    "    \n",
    "    def __init__(self,input_dim,hidden,output_dim):\n",
    "        super().__init__()\n",
    "        \n",
    "        self.fc1 = nn.Linear(input_dim,hidden)\n",
    "        self.fc2 = nn.Linear(hidden,output_dim)\n",
    "        self.relu = nn.ReLU()\n",
    "        \n",
    "    def forward(self,state):\n",
    "        \n",
    "        x = self.fc1(state)\n",
    "        x = self.relu(x)\n",
    "        logits = self.fc2(x)\n",
    "        return logits\n",
    "            "
   ]
  },
  {
   "cell_type": "code",
   "execution_count": 4,
   "id": "51ccd09f",
   "metadata": {},
   "outputs": [],
   "source": [
    "env = gym.make('CartPole-v1')"
   ]
  },
  {
   "cell_type": "code",
   "execution_count": 5,
   "id": "7c13e074",
   "metadata": {},
   "outputs": [],
   "source": [
    "input_dim = env.observation_space.shape[0]\n",
    "output_dim = env.action_space.n"
   ]
  },
  {
   "cell_type": "code",
   "execution_count": 7,
   "id": "7bcff820",
   "metadata": {},
   "outputs": [],
   "source": [
    "Episodes = 1000\n",
    "gamma = 1"
   ]
  },
  {
   "cell_type": "code",
   "execution_count": 8,
   "id": "69ccf218",
   "metadata": {},
   "outputs": [],
   "source": [
    "model = LogitsNet(input_dim,64,output_dim)\n",
    "optimizer = Adam(model.parameters(),lr=0.001)"
   ]
  },
  {
   "cell_type": "code",
   "execution_count": 17,
   "id": "082711e1",
   "metadata": {
    "scrolled": true
   },
   "outputs": [
    {
     "name": "stdout",
     "output_type": "stream",
     "text": [
      "[-0.03312311  0.04331324  0.01254183 -0.00709772]\n",
      "Episode 0 Score: 500.0\n",
      "[ 0.00806197  0.02199922  0.01930684 -0.03711768]\n",
      "[-0.01143796 -0.0172152  -0.0282624   0.02519386]\n",
      "[0.01961778 0.00792613 0.0450671  0.04945166]\n",
      "[ 0.0008294  -0.02565601  0.01197399  0.04518353]\n",
      "[ 0.00473023  0.0078681  -0.0110932  -0.03218211]\n",
      "[ 0.00432441 -0.00102601  0.04899793  0.03688155]\n",
      "[-0.04669936 -0.0429568   0.01300867 -0.02743283]\n",
      "[ 0.03461335 -0.0371448   0.01008113 -0.00573454]\n",
      "[ 0.02793723 -0.00762757  0.02581862  0.04642008]\n",
      "[ 0.02979307 -0.00300777  0.02925688  0.01141583]\n",
      "[0.00615713 0.00604453 0.03920632 0.04312511]\n",
      "[-0.03987836  0.00563466 -0.02309243  0.01100633]\n",
      "[ 0.01632363  0.00849095 -0.03037786 -0.04536649]\n",
      "[ 0.03013954  0.00112158 -0.00919468 -0.02608396]\n",
      "[ 0.03176491 -0.02750217  0.00871462 -0.04226743]\n",
      "[ 0.00403595  0.03305449 -0.00884976 -0.01703048]\n",
      "[-0.00951064 -0.01308708 -0.04141048  0.02727212]\n",
      "[-0.0058354   0.01332155 -0.00512319 -0.01808988]\n",
      "[-0.00951505  0.00558087 -0.0281589   0.04997234]\n",
      "[ 0.02738998 -0.03692338  0.01062641 -0.02235184]\n",
      "[-2.3101862e-05 -4.7321964e-02 -2.0161191e-02  3.6729637e-03]\n",
      "[ 0.00036733  0.03279721 -0.00975417 -0.02848881]\n",
      "[ 0.0131978   0.0210582  -0.0205182  -0.03180174]\n",
      "[ 0.00380466 -0.01386205 -0.04093182 -0.016099  ]\n",
      "[ 0.01433145 -0.03378057 -0.00428003 -0.00885702]\n",
      "[-0.00818794  0.04303977 -0.00982457  0.03119209]\n",
      "[-0.04213185 -0.00858534  0.02205815  0.0405977 ]\n",
      "[ 0.02089394 -0.04002648  0.0468835  -0.03823398]\n",
      "[-0.03606336 -0.03531532  0.01664539 -0.03169646]\n",
      "[ 0.03921508 -0.03608828 -0.00054248  0.04013971]\n",
      "[ 0.02742408  0.03064395  0.01864296 -0.02736458]\n",
      "[ 0.03151389 -0.00738862 -0.04254511 -0.04299392]\n",
      "[ 0.04657583  0.03199497 -0.03901005 -0.0357051 ]\n",
      "[-0.04872506  0.04129422 -0.00391789  0.01248345]\n",
      "[-0.03192138 -0.02248682  0.02657386 -0.02918233]\n",
      "[ 0.01557452 -0.0365359   0.02569595 -0.02894617]\n",
      "[ 0.03868022  0.01536508 -0.0063052   0.04904642]\n",
      "[-0.041772    0.02743189 -0.0296444   0.02627424]\n",
      "[-0.03014449 -0.03491991  0.00241705 -0.00148156]\n",
      "[-0.04294617  0.03416643  0.03427989 -0.04418872]\n",
      "[ 0.02586637  0.02954105 -0.02905174  0.03014267]\n",
      "[-0.02915054  0.01469777 -0.04276956 -0.03356233]\n",
      "[-0.01001519 -0.01816102  0.02568968  0.00828005]\n",
      "[ 0.02415165 -0.00498386 -0.01592819  0.04374504]\n",
      "[-0.04207366  0.047512   -0.03695533  0.04937389]\n",
      "[ 0.03369996  0.01407079  0.04002078 -0.02872941]\n",
      "[-0.03610115 -0.01256589  0.00079153 -0.01839515]\n",
      "[0.03887193 0.03976852 0.04509334 0.01427203]\n",
      "[ 0.04886437 -0.00590907 -0.03864329 -0.04524068]\n",
      "[-0.0240137  -0.02822783  0.00597631  0.01657961]\n",
      "[-0.04648854  0.04271849 -0.04562643  0.0322647 ]\n",
      "[-0.0166865  -0.01596132 -0.00599406  0.04919045]\n",
      "[-0.01727291 -0.0064136  -0.047344   -0.02130705]\n",
      "[-0.00559749  0.04083077  0.00073924  0.02628876]\n",
      "[-0.00183806 -0.04941108 -0.03361117  0.00088209]\n",
      "[-0.03472577  0.0363616  -0.03003553 -0.04293119]\n",
      "[-0.02745529  0.03604202 -0.01786077  0.01296608]\n",
      "[ 0.03743416 -0.046865   -0.04491499 -0.04660112]\n",
      "[-0.0207936   0.04217736  0.03024716 -0.00867383]\n",
      "[0.03058976 0.01933034 0.02619277 0.01504531]\n",
      "[ 0.04011364  0.03928154 -0.01458108  0.0297592 ]\n",
      "[ 0.00850983 -0.03442753  0.03263131 -0.01714344]\n",
      "[-0.04420084 -0.04038367 -0.00589816 -0.00315965]\n",
      "[ 0.01557656 -0.04212885 -0.0415131  -0.0113269 ]\n",
      "[-0.0297433   0.02139632 -0.02005118 -0.03448241]\n",
      "[ 0.03374669  0.03647006 -0.04691813 -0.04530086]\n",
      "[ 0.027361   -0.0088637  -0.00673925 -0.03325264]\n",
      "[-0.02048987  0.01776694  0.03963861  0.01886949]\n",
      "[-0.00468935  0.02876123 -0.00919144 -0.02209804]\n",
      "[ 0.01995528  0.0367761  -0.03298145 -0.00636927]\n",
      "[ 0.00747021 -0.00214095 -0.00761475 -0.02439918]\n",
      "[0.01690168 0.01907039 0.023986   0.00765464]\n",
      "[-0.00738245  0.04353341  0.02206056  0.00796786]\n",
      "[-0.03605074 -0.03030871 -0.04423409  0.00686078]\n",
      "[-0.00074622  0.04147606  0.02502736  0.02216756]\n",
      "[-0.03703151  0.02075677 -0.04589958  0.03453543]\n",
      "[-0.03519014  0.00134858 -0.0211588  -0.0376367 ]\n",
      "[ 0.03647964 -0.03115184  0.03467642 -0.00103205]\n",
      "[ 0.03311939 -0.04217695 -0.04667211 -0.04834251]\n",
      "[-0.01981421 -0.0425342   0.00935329 -0.0029314 ]\n",
      "[-0.02056038  0.01050351 -0.03842399  0.04298311]\n",
      "[-0.02778062 -0.02325641 -0.01643701 -0.04995508]\n",
      "[ 0.00792525  0.01842618 -0.00011843 -0.0054939 ]\n",
      "[-0.0056955  -0.0469183  -0.02035402  0.03856731]\n",
      "[ 0.038067    0.01959075 -0.04505983  0.02815963]\n",
      "[-0.00184668 -0.00635588  0.019578   -0.03874   ]\n",
      "[-0.01103728 -0.02420028  0.02787573 -0.0424327 ]\n",
      "[ 0.01047337 -0.03440056  0.04883644 -0.0418376 ]\n",
      "[ 0.02115179 -0.01156857 -0.04174127 -0.01345482]\n",
      "[ 0.04159166  0.02636345  0.00118285 -0.02377379]\n",
      "[ 0.03971674 -0.04652674  0.0117053  -0.04223603]\n",
      "[0.02817446 0.03636178 0.01596464 0.02197629]\n",
      "[ 0.01279776  0.02180993  0.02575875 -0.02132368]\n",
      "[-0.0120962   0.02434197  0.04960365 -0.04919957]\n",
      "[-0.03691617  0.04678575 -0.0345111  -0.01375065]\n",
      "[ 0.01084677 -0.01796843 -0.03037374  0.03710235]\n",
      "[ 0.02646613 -0.02551015 -0.01499359 -0.02185865]\n",
      "[ 0.04308113 -0.01812236  0.00977918  0.03413317]\n",
      "[0.0007325  0.03979271 0.046094   0.02413224]\n"
     ]
    },
    {
     "ename": "KeyboardInterrupt",
     "evalue": "",
     "output_type": "error",
     "traceback": [
      "\u001b[1;31m---------------------------------------------------------------------------\u001b[0m",
      "\u001b[1;31mKeyboardInterrupt\u001b[0m                         Traceback (most recent call last)",
      "Input \u001b[1;32mIn [17]\u001b[0m, in \u001b[0;36m<cell line: 2>\u001b[1;34m()\u001b[0m\n\u001b[0;32m     14\u001b[0m logits \u001b[38;5;241m=\u001b[39m model(torch\u001b[38;5;241m.\u001b[39mFloatTensor(s))\n\u001b[0;32m     15\u001b[0m pi \u001b[38;5;241m=\u001b[39m Categorical(logits \u001b[38;5;241m=\u001b[39m logits)\n\u001b[1;32m---> 16\u001b[0m action \u001b[38;5;241m=\u001b[39m \u001b[43mpi\u001b[49m\u001b[38;5;241;43m.\u001b[39;49m\u001b[43msample\u001b[49m\u001b[43m(\u001b[49m\u001b[43m)\u001b[49m\n\u001b[0;32m     17\u001b[0m log_prob \u001b[38;5;241m=\u001b[39m pi\u001b[38;5;241m.\u001b[39mlog_prob(action)\n\u001b[0;32m     18\u001b[0m action \u001b[38;5;241m=\u001b[39m action\u001b[38;5;241m.\u001b[39mitem()\n",
      "File \u001b[1;32mC:\\ProgramData\\Anaconda3\\lib\\site-packages\\torch\\distributions\\categorical.py:116\u001b[0m, in \u001b[0;36mCategorical.sample\u001b[1;34m(self, sample_shape)\u001b[0m\n\u001b[0;32m    114\u001b[0m     sample_shape \u001b[38;5;241m=\u001b[39m torch\u001b[38;5;241m.\u001b[39mSize(sample_shape)\n\u001b[0;32m    115\u001b[0m probs_2d \u001b[38;5;241m=\u001b[39m \u001b[38;5;28mself\u001b[39m\u001b[38;5;241m.\u001b[39mprobs\u001b[38;5;241m.\u001b[39mreshape(\u001b[38;5;241m-\u001b[39m\u001b[38;5;241m1\u001b[39m, \u001b[38;5;28mself\u001b[39m\u001b[38;5;241m.\u001b[39m_num_events)\n\u001b[1;32m--> 116\u001b[0m samples_2d \u001b[38;5;241m=\u001b[39m \u001b[43mtorch\u001b[49m\u001b[38;5;241;43m.\u001b[39;49m\u001b[43mmultinomial\u001b[49m\u001b[43m(\u001b[49m\u001b[43mprobs_2d\u001b[49m\u001b[43m,\u001b[49m\u001b[43m \u001b[49m\u001b[43msample_shape\u001b[49m\u001b[38;5;241;43m.\u001b[39;49m\u001b[43mnumel\u001b[49m\u001b[43m(\u001b[49m\u001b[43m)\u001b[49m\u001b[43m,\u001b[49m\u001b[43m \u001b[49m\u001b[38;5;28;43;01mTrue\u001b[39;49;00m\u001b[43m)\u001b[49m\u001b[38;5;241m.\u001b[39mT\n\u001b[0;32m    117\u001b[0m \u001b[38;5;28;01mreturn\u001b[39;00m samples_2d\u001b[38;5;241m.\u001b[39mreshape(\u001b[38;5;28mself\u001b[39m\u001b[38;5;241m.\u001b[39m_extended_shape(sample_shape))\n",
      "\u001b[1;31mKeyboardInterrupt\u001b[0m: "
     ]
    }
   ],
   "source": [
    "all_rewards = []\n",
    "for episode in range(Episodes):\n",
    "    done = False\n",
    "    \n",
    "    s = env.reset()\n",
    "    \n",
    "    logp = []\n",
    "    actions = []\n",
    "    rewards = []\n",
    "    s_prime = []\n",
    "    \n",
    "    while not done:\n",
    "        logits = model(torch.FloatTensor(s))\n",
    "        pi = Categorical(logits = logits)\n",
    "        action = pi.sample()\n",
    "        log_prob = pi.log_prob(action)\n",
    "        action = action.item()\n",
    "\n",
    "\n",
    "        s_prime,reward,done,_ = env.step(action)\n",
    "        logp.append(log_prob)\n",
    "        rewards.append(reward)\n",
    "        \n",
    "        s = s_prime\n",
    "        #if episode % 100 == 0:\n",
    "        #    env.render()\n",
    "    \n",
    "    all_rewards.append(np.sum(rewards))\n",
    "    if episode % 100 == 0:\n",
    "\n",
    "        print(f'Episode {episode} Score: {np.sum(rewards)}')\n",
    "        \n",
    "    discounted_rewards = []        \n",
    "    for t in range(len(rewards)):\n",
    "        G_t = 0\n",
    "        pw = 0\n",
    "        \n",
    "        for r in rewards[t:]:\n",
    "            G_t = G_t + gamma**pw * r\n",
    "            pw += 1\n",
    "            \n",
    "        discounted_rewards.append(G_t) \n",
    "        \n",
    "    discounted_rewards = torch.FloatTensor(discounted_rewards)\n",
    "    \n",
    "    loss = - torch.stack(logp)@discounted_rewards\n",
    "    \n",
    "    optimizer.zero_grad()\n",
    "    \n",
    "    loss.backward()\n",
    "    \n",
    "    optimizer.step()\n",
    "        \n",
    "        "
   ]
  },
  {
   "cell_type": "code",
   "execution_count": 10,
   "id": "b73f564a",
   "metadata": {},
   "outputs": [
    {
     "data": {
      "image/png": "[encoded data removed]",
      "text/plain": [
       "<Figure size 432x288 with 1 Axes>"
      ]
     },
     "metadata": {
      "needs_background": "light"
     },
     "output_type": "display_data"
    }
   ],
   "source": [
    "plt.plot(all_rewards);\n",
    "plt.plot([np.mean(all_rewards[i:i+100]) for i in range(900)]);"
   ]
  }
 ],
 "metadata": {
  "kernelspec": {
   "display_name": "Python 3 (ipykernel)",
   "language": "python",
   "name": "python3"
  },
  "language_info": {
   "codemirror_mode": {
    "name": "ipython",
    "version": 3
   },
   "file_extension": ".py",
   "mimetype": "text/x-python",
   "name": "python",
   "nbconvert_exporter": "python",
   "pygments_lexer": "ipython3",
   "version": "3.9.12"
  }
 },
 "nbformat": 4,
 "nbformat_minor": 5
}
